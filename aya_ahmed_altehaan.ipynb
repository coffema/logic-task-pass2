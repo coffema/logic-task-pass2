{
  "nbformat": 4,
  "nbformat_minor": 0,
  "metadata": {
    "colab": {
      "name": "aya ahmed altehaan",
      "provenance": [],
      "authorship_tag": "ABX9TyNq5XNWaIwOHGfVmWu10pbA",
      "include_colab_link": true
    },
    "kernelspec": {
      "name": "python3",
      "display_name": "Python 3"
    },
    "language_info": {
      "name": "python"
    }
  },
  "cells": [
    {
      "cell_type": "markdown",
      "metadata": {
        "id": "view-in-github",
        "colab_type": "text"
      },
      "source": [
        "<a href=\"https://colab.research.google.com/github/coffema/logic-task-pass2/blob/main/aya_ahmed_altehaan.ipynb\" target=\"_parent\"><img src=\"https://colab.research.google.com/assets/colab-badge.svg\" alt=\"Open In Colab\"/></a>"
      ]
    },
    {
      "cell_type": "markdown",
      "source": [
        "## Q 1/"
      ],
      "metadata": {
        "id": "MeW_FwxrK-uH"
      }
    },
    {
      "cell_type": "code",
      "execution_count": null,
      "metadata": {
        "colab": {
          "base_uri": "https://localhost:8080/"
        },
        "id": "JrhQAuHXKvnp",
        "outputId": "b6524f8c-369a-4877-94c7-f03abb3d5892"
      },
      "outputs": [
        {
          "output_type": "stream",
          "name": "stdout",
          "text": [
            "Enter the string: how are you doing?\n",
            "Enter the character you want to be removed: g\n",
            "the result is:  how are you doin?\n"
          ]
        }
      ],
      "source": [
        "#a method to remove any given character from a string\n",
        "class RemoveChar():\n",
        "  lis = []\n",
        "  \n",
        "  def get_data(self, string, removed_char):\n",
        "    RemoveChar.lis.extend(string)\n",
        "    RemoveChar.lis.remove(removed_char)\n",
        "\n",
        "  def display_data(self):\n",
        "    print( \"the result is: \" ,''.join(RemoveChar.lis))\n",
        "\n",
        "\n",
        "string = input(\"Enter the string: \")\n",
        "  \n",
        "removed_char = input(\"Enter the character you want to be removed: \")\n",
        "\n",
        "R1 = RemoveChar()\n",
        "R1.get_data(string, removed_char)\n",
        "R1.display_data()"
      ]
    },
    {
      "cell_type": "markdown",
      "source": [
        "## Q 2/"
      ],
      "metadata": {
        "id": "-WmZXC1WLNGy"
      }
    },
    {
      "cell_type": "code",
      "source": [
        "#find all prime nums up to a given range\n",
        "a = int(input(\"Enter the range starts from : \"))\n",
        "b = int(input(\"Enter the range ends at: \"))\n",
        "lis = []\n",
        "for n in range(a,b + 1):\n",
        "   if n > 1:\n",
        "       for i in range(2,n):\n",
        "           if (n % i) == 0:\n",
        "               break\n",
        "       else:\n",
        "           x = lis.append(n)\n",
        "\n",
        "\n",
        "newlis = []\n",
        "\n",
        "for l in lis: \n",
        "  if l not in newlis: \n",
        "        newlis.append(l) \n",
        "\n",
        "   \n",
        "print(newlis,\" are the prime numbers at the range from \", a,\"to\", b)\n"
      ],
      "metadata": {
        "colab": {
          "base_uri": "https://localhost:8080/"
        },
        "id": "yYyXLDINLL7_",
        "outputId": "3519e630-2213-4364-94be-2b4a0a396d67"
      },
      "execution_count": null,
      "outputs": [
        {
          "output_type": "stream",
          "name": "stdout",
          "text": [
            "Enter the range starts from : 1\n",
            "Enter the range ends at: 100\n",
            "[2, 3, 5, 7, 11, 13, 17, 19, 23, 29, 31, 37, 41, 43, 47, 53, 59, 61, 67, 71, 73, 79, 83, 89, 97]  are the prime numbers at the range from  1 to 100\n"
          ]
        }
      ]
    },
    {
      "cell_type": "markdown",
      "source": [
        "## Q 3/"
      ],
      "metadata": {
        "id": "fHk_4GRKLbqB"
      }
    },
    {
      "cell_type": "code",
      "source": [
        "# function to count how many the given character has repeated \n",
        "def count_char(b):\n",
        "  a = []\n",
        "  a = input(\"enter a string: \")\n",
        "  b = input(\"enter the character you want to count: \")\n",
        "  return a.count(b)\n",
        "\n",
        "count_char(\"x\")"
      ],
      "metadata": {
        "colab": {
          "base_uri": "https://localhost:8080/"
        },
        "id": "r7YO2x2VLgli",
        "outputId": "f42b798a-a011-47b9-b7f3-4527764bcbe3"
      },
      "execution_count": null,
      "outputs": [
        {
          "name": "stdout",
          "output_type": "stream",
          "text": [
            "enter a string: ayaaaaaaaaaaaa\n",
            "enter the character you want to count: a\n"
          ]
        },
        {
          "output_type": "execute_result",
          "data": {
            "text/plain": [
              "13"
            ]
          },
          "metadata": {},
          "execution_count": 1
        }
      ]
    }
  ]
}