{
  "nbformat": 4,
  "nbformat_minor": 0,
  "metadata": {
    "colab": {
      "provenance": [],
      "authorship_tag": "ABX9TyPAl/bRmVxP/BnddbPtbPUF",
      "include_colab_link": true
    },
    "kernelspec": {
      "name": "python3",
      "display_name": "Python 3"
    },
    "language_info": {
      "name": "python"
    }
  },
  "cells": [
    {
      "cell_type": "markdown",
      "metadata": {
        "id": "view-in-github",
        "colab_type": "text"
      },
      "source": [
        "<a href=\"https://colab.research.google.com/github/coffema/logic-task-pass2/blob/main/oop_challenge_aya_althehaan.ipynb\" target=\"_parent\"><img src=\"https://colab.research.google.com/assets/colab-badge.svg\" alt=\"Open In Colab\"/></a>"
      ]
    },
    {
      "cell_type": "code",
      "execution_count": null,
      "metadata": {
        "id": "Jci5Q491L0uC"
      },
      "outputs": [],
      "source": [
        "class Account():\n",
        "  def __init__(self,owner, balance):\n",
        "    self.owner = owner\n",
        "    self.balance = balance\n",
        "     \n",
        "  \n",
        "  \n",
        "  def deposit(self,num1):\n",
        "    self.balance += num1\n",
        "    print(self.balance)\n",
        "\n",
        "\n",
        "  \n",
        "  def withdrawal(self,num2):\n",
        "    if num2 <= self.balance:\n",
        "      self.balance -= num2\n",
        "      print(self.balance)\n",
        "    elif num2 > self.balance:\n",
        "      print(\"overdraft\")\n",
        "pass"
      ]
    },
    {
      "cell_type": "code",
      "source": [
        "acc1 = Account('joe',100)\n",
        "print(acc1)\n",
        "print(acc1.owner)\n",
        "print(acc1.balance)\n",
        "print(acc1.deposit(50))\n",
        "print(acc1.withdrawal(75))\n",
        "print(acc1.withdrawal(500))"
      ],
      "metadata": {
        "colab": {
          "base_uri": "https://localhost:8080/"
        },
        "id": "6WdTho87QACo",
        "outputId": "08e265b0-9a60-48db-dafa-9d42387d5f23"
      },
      "execution_count": null,
      "outputs": [
        {
          "output_type": "stream",
          "name": "stdout",
          "text": [
            "<__main__.Account object at 0x7f950649ee90>\n",
            "joe\n",
            "100\n",
            "150\n",
            "None\n",
            "75\n",
            "None\n",
            "overdraft\n",
            "None\n"
          ]
        }
      ]
    }
  ]
}