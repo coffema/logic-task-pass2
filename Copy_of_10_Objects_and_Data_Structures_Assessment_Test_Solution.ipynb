{
  "cells": [
    {
      "cell_type": "markdown",
      "metadata": {
        "id": "view-in-github",
        "colab_type": "text"
      },
      "source": [
        "<a href=\"https://colab.research.google.com/github/coffema/logic-task-pass2/blob/main/Copy_of_10_Objects_and_Data_Structures_Assessment_Test_Solution.ipynb\" target=\"_parent\"><img src=\"https://colab.research.google.com/assets/colab-badge.svg\" alt=\"Open In Colab\"/></a>"
      ]
    },
    {
      "cell_type": "markdown",
      "metadata": {
        "id": "1R0Y0EqLv9ob"
      },
      "source": [
        "# Objects and Data Structures Assessment Test"
      ]
    },
    {
      "cell_type": "markdown",
      "metadata": {
        "collapsed": true,
        "id": "ZPoLblUQv9qP"
      },
      "source": [
        "## Test your knowledge. \n",
        "\n",
        "** Answer the following questions **"
      ]
    },
    {
      "cell_type": "markdown",
      "metadata": {
        "collapsed": true,
        "id": "USJxxsryv9qS"
      },
      "source": [
        "Write a brief description of all the following Object Types and Data Structures we've learned about: "
      ]
    },
    {
      "cell_type": "markdown",
      "metadata": {
        "id": "2QCFEBSzv9qU"
      },
      "source": [
        "**For the full answers, review the Jupyter notebook introductions of each topic!**\n",
        "\n",
        "[Numbers](http://nbviewer.ipython.org/github/jmportilla/Complete-Python-Bootcamp/blob/master/Numbers.ipynb)\n",
        "\n",
        "[Strings](http://nbviewer.ipython.org/github/jmportilla/Complete-Python-Bootcamp/blob/master/Strings.ipynb)\n",
        "\n",
        "[Lists](http://nbviewer.ipython.org/github/jmportilla/Complete-Python-Bootcamp/blob/master/Lists.ipynb)\n",
        "\n",
        "[Tuples](http://nbviewer.ipython.org/github/jmportilla/Complete-Python-Bootcamp/blob/master/Tuples.ipynb)\n",
        "\n",
        "[Dictionaries](http://nbviewer.ipython.org/github/jmportilla/Complete-Python-Bootcamp/blob/master/Dictionaries.ipynb)\n"
      ]
    },
    {
      "cell_type": "markdown",
      "metadata": {
        "id": "euxm3mjPv9qi"
      },
      "source": [
        "## Numbers\n",
        "\n",
        "Write an equation that uses multiplication, division, an exponent, addition, and subtraction that is equal to 100.25.\n",
        "\n",
        "Hint: This is just to test your memory of the basic arithmetic commands, work backwards from 100.25"
      ]
    },
    {
      "cell_type": "code",
      "execution_count": null,
      "metadata": {
        "id": "ZkEgCbLfv9ql",
        "outputId": "c50578eb-b820-4531-ee2c-f807d4ba3cae"
      },
      "outputs": [
        {
          "data": {
            "text/plain": [
              "100.25"
            ]
          },
          "execution_count": 42,
          "metadata": {},
          "output_type": "execute_result"
        }
      ],
      "source": [
        "# Your answer is probably different\n",
        "(60 + (10 ** 2) / 4 * 7) - 134.75"
      ]
    },
    {
      "cell_type": "markdown",
      "metadata": {
        "id": "aFF09kR_v9qz"
      },
      "source": [
        "Answer these 3 questions without typing code. Then type code to check your answer.\n",
        "\n",
        "    What is the value of the expression 4 * (6 + 5)\n",
        "    \n",
        "    What is the value of the expression 4 * 6 + 5 \n",
        "    \n",
        "    What is the value of the expression 4 + 6 * 5 "
      ]
    },
    {
      "cell_type": "code",
      "execution_count": null,
      "metadata": {
        "id": "gJJ315nkv9q-",
        "outputId": "9f8a9dfb-708f-4e39-f7b7-77ee6492e058"
      },
      "outputs": [
        {
          "data": {
            "text/plain": [
              "44"
            ]
          },
          "execution_count": 43,
          "metadata": {},
          "output_type": "execute_result"
        }
      ],
      "source": [
        "4 * (6 + 5)"
      ]
    },
    {
      "cell_type": "code",
      "execution_count": null,
      "metadata": {
        "id": "yBtY0bxDv9sl",
        "outputId": "e93fb3e6-2b0e-423d-b760-db19dcf0960c"
      },
      "outputs": [
        {
          "data": {
            "text/plain": [
              "29"
            ]
          },
          "execution_count": 3,
          "metadata": {},
          "output_type": "execute_result"
        }
      ],
      "source": [
        "4 * 6 + 5 "
      ]
    },
    {
      "cell_type": "code",
      "execution_count": null,
      "metadata": {
        "id": "lD7Nr-luv9sv",
        "outputId": "12087271-b2d7-442a-cf2a-aef9c8140481"
      },
      "outputs": [
        {
          "data": {
            "text/plain": [
              "34"
            ]
          },
          "execution_count": 4,
          "metadata": {},
          "output_type": "execute_result"
        }
      ],
      "source": [
        "4 + 6 * 5 "
      ]
    },
    {
      "cell_type": "markdown",
      "metadata": {
        "id": "WfBHcH82v9s3"
      },
      "source": [
        "What is the *type* of the result of the expression 3 + 1.5 + 4?"
      ]
    },
    {
      "cell_type": "markdown",
      "metadata": {
        "id": "MB3573ptv9s4"
      },
      "source": [
        "**Answer: Floating Point Number**"
      ]
    },
    {
      "cell_type": "markdown",
      "metadata": {
        "id": "Ojy1bJ1tv9s5"
      },
      "source": [
        "What would you use to find a number’s square root, as well as its square? "
      ]
    },
    {
      "cell_type": "code",
      "execution_count": null,
      "metadata": {
        "id": "v2kZfs89v9s9",
        "outputId": "5f69f226-b063-411d-cdbe-d6d6475d943d"
      },
      "outputs": [
        {
          "data": {
            "text/plain": [
              "10.0"
            ]
          },
          "execution_count": 5,
          "metadata": {},
          "output_type": "execute_result"
        }
      ],
      "source": [
        "# Square root:\n",
        "100 ** 0.5"
      ]
    },
    {
      "cell_type": "code",
      "execution_count": null,
      "metadata": {
        "id": "1kBVgREBv9tA",
        "outputId": "0f07bfba-4a04-49f0-c922-8f747b63b375"
      },
      "outputs": [
        {
          "data": {
            "text/plain": [
              "100"
            ]
          },
          "execution_count": 6,
          "metadata": {},
          "output_type": "execute_result"
        }
      ],
      "source": [
        "# Square:\n",
        "10 ** 2"
      ]
    },
    {
      "cell_type": "markdown",
      "metadata": {
        "id": "DNlcx9-Mv9tE"
      },
      "source": [
        "## Strings"
      ]
    },
    {
      "cell_type": "markdown",
      "metadata": {
        "id": "gMVBe55hv9tG"
      },
      "source": [
        "Given the string 'hello' give an index command that returns 'e'. Enter your code in the cell below:"
      ]
    },
    {
      "cell_type": "code",
      "execution_count": null,
      "metadata": {
        "id": "7yOHKSI2v9tH",
        "outputId": "441ae036-e12e-408e-cde5-19725a66eaaa"
      },
      "outputs": [
        {
          "data": {
            "text/plain": [
              "'e'"
            ]
          },
          "execution_count": 7,
          "metadata": {},
          "output_type": "execute_result"
        }
      ],
      "source": [
        "s = 'hello'\n",
        "# Print out 'e' using indexing\n",
        "\n",
        "s[1]"
      ]
    },
    {
      "cell_type": "markdown",
      "metadata": {
        "id": "b72SOAJEv9tJ"
      },
      "source": [
        "Reverse the string 'hello' using slicing:"
      ]
    },
    {
      "cell_type": "code",
      "execution_count": null,
      "metadata": {
        "id": "mN5wSWx6v9tK",
        "outputId": "04e547b4-7345-41c8-8839-05e7448e8b92"
      },
      "outputs": [
        {
          "data": {
            "text/plain": [
              "'olleh'"
            ]
          },
          "execution_count": 8,
          "metadata": {},
          "output_type": "execute_result"
        }
      ],
      "source": [
        "s ='hello'\n",
        "# Reverse the string using slicing\n",
        "\n",
        "s[::-1]"
      ]
    },
    {
      "cell_type": "markdown",
      "metadata": {
        "id": "86Bzw3XVv9tL"
      },
      "source": [
        "Given the string 'hello', give two methods of producing the letter 'o' using indexing."
      ]
    },
    {
      "cell_type": "code",
      "execution_count": null,
      "metadata": {
        "id": "P0tDYFmVv9tN",
        "outputId": "1a07fd4c-896f-4ff5-e2c7-09cc83d635fa"
      },
      "outputs": [
        {
          "data": {
            "text/plain": [
              "'o'"
            ]
          },
          "execution_count": 9,
          "metadata": {},
          "output_type": "execute_result"
        }
      ],
      "source": [
        "s ='hello'\n",
        "# Print out the 'o'\n",
        "\n",
        "# Method 1:\n",
        "\n",
        "s[-1]"
      ]
    },
    {
      "cell_type": "code",
      "execution_count": null,
      "metadata": {
        "id": "NyexJ9K_v9tT",
        "outputId": "d813334a-c834-430f-f30d-1b13ab8697e6"
      },
      "outputs": [
        {
          "data": {
            "text/plain": [
              "'o'"
            ]
          },
          "execution_count": 10,
          "metadata": {},
          "output_type": "execute_result"
        }
      ],
      "source": [
        "# Method 2:\n",
        "\n",
        "s[4]"
      ]
    },
    {
      "cell_type": "markdown",
      "metadata": {
        "id": "lWQjzikbv9tU"
      },
      "source": [
        "## Lists"
      ]
    },
    {
      "cell_type": "markdown",
      "metadata": {
        "id": "Vtpiz4eOv9tV"
      },
      "source": [
        "Build this list [0,0,0] two separate ways."
      ]
    },
    {
      "cell_type": "code",
      "execution_count": null,
      "metadata": {
        "id": "AOP-J-olv9tW",
        "outputId": "13e03e47-2ab9-4703-be21-bfc4e6c61a46"
      },
      "outputs": [
        {
          "data": {
            "text/plain": [
              "[0, 0, 0]"
            ]
          },
          "execution_count": 11,
          "metadata": {},
          "output_type": "execute_result"
        }
      ],
      "source": [
        "# Method 1:\n",
        "[0]*3"
      ]
    },
    {
      "cell_type": "code",
      "execution_count": null,
      "metadata": {
        "id": "wxkcSoQzv9tY",
        "outputId": "bc0dec05-2fc9-4db8-c9be-2d3424534471"
      },
      "outputs": [
        {
          "data": {
            "text/plain": [
              "[0, 0, 0]"
            ]
          },
          "execution_count": 12,
          "metadata": {},
          "output_type": "execute_result"
        }
      ],
      "source": [
        "# Method 2:\n",
        "list2 = [0,0,0]\n",
        "list2"
      ]
    },
    {
      "cell_type": "markdown",
      "metadata": {
        "id": "hFdRVPtFv9ty"
      },
      "source": [
        "Reassign 'hello' in this nested list to say 'goodbye' instead:"
      ]
    },
    {
      "cell_type": "code",
      "execution_count": null,
      "metadata": {
        "id": "AvQ5rIeIv9tz"
      },
      "outputs": [],
      "source": [
        "list3 = [1,2,[3,4,'hello']]"
      ]
    },
    {
      "cell_type": "code",
      "execution_count": null,
      "metadata": {
        "id": "2MMsBYI_v9t0"
      },
      "outputs": [],
      "source": [
        "list3[2][2] = 'goodbye'"
      ]
    },
    {
      "cell_type": "code",
      "execution_count": null,
      "metadata": {
        "id": "PRAAEVQRv9t2",
        "outputId": "03de0d0a-b7c6-49ce-a171-aef10a5c448e"
      },
      "outputs": [
        {
          "data": {
            "text/plain": [
              "[1, 2, [3, 4, 'goodbye']]"
            ]
          },
          "execution_count": 15,
          "metadata": {},
          "output_type": "execute_result"
        }
      ],
      "source": [
        "list3"
      ]
    },
    {
      "cell_type": "markdown",
      "metadata": {
        "id": "rD45LWuZv9t4"
      },
      "source": [
        "Sort the list below:"
      ]
    },
    {
      "cell_type": "code",
      "execution_count": null,
      "metadata": {
        "id": "0YV-2Tc9v9t4"
      },
      "outputs": [],
      "source": [
        "list4 = [5,3,4,6,1]"
      ]
    },
    {
      "cell_type": "code",
      "execution_count": null,
      "metadata": {
        "id": "2z_wdlpjv9t5",
        "outputId": "89333abf-6790-4242-816e-c5a8e21a6674"
      },
      "outputs": [
        {
          "data": {
            "text/plain": [
              "[1, 3, 4, 5, 6]"
            ]
          },
          "execution_count": 17,
          "metadata": {},
          "output_type": "execute_result"
        }
      ],
      "source": [
        "# Method 1:\n",
        "sorted(list4)"
      ]
    },
    {
      "cell_type": "code",
      "execution_count": null,
      "metadata": {
        "id": "FBJCMUaQv9t7"
      },
      "outputs": [],
      "source": [
        "# Method 2:\n",
        "list4.sort()"
      ]
    },
    {
      "cell_type": "markdown",
      "metadata": {
        "id": "qsDeDCU6v9t8"
      },
      "source": [
        "## Dictionaries"
      ]
    },
    {
      "cell_type": "markdown",
      "metadata": {
        "id": "bIbLEy6sv9uT"
      },
      "source": [
        "Using keys and indexing, grab the 'hello' from the following dictionaries:"
      ]
    },
    {
      "cell_type": "code",
      "execution_count": null,
      "metadata": {
        "id": "_q-kB1pNv9uU",
        "outputId": "b37c6118-6489-4590-f008-5ec128ab5666"
      },
      "outputs": [
        {
          "name": "stdout",
          "output_type": "stream",
          "text": [
            "hello\n"
          ]
        },
        {
          "data": {
            "text/plain": [
              "'hello'"
            ]
          },
          "execution_count": 44,
          "metadata": {},
          "output_type": "execute_result"
        }
      ],
      "source": [
        "d = {'simple_key':'hello'}\n",
        "# Grab 'hello'\n",
        "\n",
        "print(d['simple_key'])"
      ]
    },
    {
      "cell_type": "code",
      "execution_count": null,
      "metadata": {
        "id": "3A6vqC8rv9uW",
        "outputId": "d1bcb39b-0e09-4c65-cafc-72662fa4be58"
      },
      "outputs": [
        {
          "name": "stdout",
          "output_type": "stream",
          "text": [
            "hello\n"
          ]
        }
      ],
      "source": [
        "d = {'k1':{'k2':'hello'}}\n",
        "# Grab 'hello'\n",
        "\n",
        "print(d['k1']['k2'])"
      ]
    },
    {
      "cell_type": "code",
      "execution_count": null,
      "metadata": {
        "id": "ar_1x7cKv9uX"
      },
      "outputs": [],
      "source": [
        "# Getting a little tricker\n",
        "d = {'k1':[{'nest_key':['this is deep',['hello']]}]}"
      ]
    },
    {
      "cell_type": "code",
      "execution_count": null,
      "metadata": {
        "id": "JMi_j8SUv9uY",
        "outputId": "12e52c24-486e-4326-8cde-016d7dbdfe42"
      },
      "outputs": [
        {
          "name": "stdout",
          "output_type": "stream",
          "text": [
            "hello\n"
          ]
        }
      ],
      "source": [
        "# This was harder than I expected...\n",
        "print(d['k1'][0]['nest_key'][1][0])"
      ]
    },
    {
      "cell_type": "code",
      "execution_count": null,
      "metadata": {
        "id": "bVsnfUIUv9ug"
      },
      "outputs": [],
      "source": [
        "# This will be hard and annoying!\n",
        "d = {'k1':[1,2,{'k2':['this is tricky',{'tough':[1,2,['hello', 'mo']]}]}]}"
      ]
    },
    {
      "cell_type": "code",
      "execution_count": null,
      "metadata": {
        "id": "bYOpo-Iqv9uh",
        "outputId": "a2d22854-36ad-4064-bbbf-4d92ec87e283"
      },
      "outputs": [
        {
          "name": "stdout",
          "output_type": "stream",
          "text": [
            "hello\n"
          ]
        }
      ],
      "source": [
        "# Phew!\n",
        "print(d['k1'][2]['k2'][1]['tough'][2][0])"
      ]
    },
    {
      "cell_type": "markdown",
      "metadata": {
        "id": "u5IYn1qhv9uj"
      },
      "source": [
        "Can you sort a dictionary? Why or why not?"
      ]
    },
    {
      "cell_type": "markdown",
      "metadata": {
        "id": "7Xf7_OKLv9uk"
      },
      "source": [
        "**Answer: No! Because normal dictionaries are *mappings* not a sequence. **"
      ]
    },
    {
      "cell_type": "markdown",
      "metadata": {
        "id": "bNdjNOQDv9ul"
      },
      "source": [
        "## Tuples"
      ]
    },
    {
      "cell_type": "markdown",
      "metadata": {
        "id": "wHzew79Vv9um"
      },
      "source": [
        "What is the major difference between tuples and lists?"
      ]
    },
    {
      "cell_type": "markdown",
      "metadata": {
        "id": "VqJYjljav9un"
      },
      "source": [
        "**Tuples are immutable!**"
      ]
    },
    {
      "cell_type": "markdown",
      "metadata": {
        "id": "qQfYVNsAv9ux"
      },
      "source": [
        "How do you create a tuple?"
      ]
    },
    {
      "cell_type": "code",
      "execution_count": null,
      "metadata": {
        "id": "nP19z8bov9uy"
      },
      "outputs": [],
      "source": [
        "t = (1,2,3)"
      ]
    },
    {
      "cell_type": "markdown",
      "metadata": {
        "id": "sepqvo0ev9uz"
      },
      "source": [
        "## Sets "
      ]
    },
    {
      "cell_type": "markdown",
      "metadata": {
        "id": "jFanp7uYv9u0"
      },
      "source": [
        "What is unique about a set?"
      ]
    },
    {
      "cell_type": "markdown",
      "metadata": {
        "id": "uORa-qU1v9u7"
      },
      "source": [
        "**Answer: They don't allow for duplicate items!**"
      ]
    },
    {
      "cell_type": "markdown",
      "metadata": {
        "id": "zvYf3s3Gv9vD"
      },
      "source": [
        "Use a set to find the unique values of the list below:"
      ]
    },
    {
      "cell_type": "code",
      "execution_count": null,
      "metadata": {
        "id": "h4DIItFkv9vF"
      },
      "outputs": [],
      "source": [
        "list5 = [1,2,2,33,4,4,11,22,3,3,2]"
      ]
    },
    {
      "cell_type": "code",
      "execution_count": null,
      "metadata": {
        "id": "1FFLju45v9vL",
        "outputId": "5937047b-b8b6-4baf-cdc6-417fca36aa60"
      },
      "outputs": [
        {
          "data": {
            "text/plain": [
              "{1, 2, 3, 4, 11, 22, 33}"
            ]
          },
          "execution_count": 27,
          "metadata": {},
          "output_type": "execute_result"
        }
      ],
      "source": [
        "set(list5)"
      ]
    },
    {
      "cell_type": "markdown",
      "metadata": {
        "id": "s38DsXHBv9vO"
      },
      "source": [
        "## Booleans"
      ]
    },
    {
      "cell_type": "markdown",
      "metadata": {
        "id": "W1WBoR01v9vO"
      },
      "source": [
        "For the following quiz questions, we will get a preview of comparison operators. In the table below, a=3 and b=4.\n",
        "\n",
        "<table class=\"table table-bordered\">\n",
        "<tr>\n",
        "<th style=\"width:10%\">Operator</th><th style=\"width:45%\">Description</th><th>Example</th>\n",
        "</tr>\n",
        "<tr>\n",
        "<td>==</td>\n",
        "<td>If the values of two operands are equal, then the condition becomes true.</td>\n",
        "<td> (a == b) is not true.</td>\n",
        "</tr>\n",
        "<tr>\n",
        "<td>!=</td>\n",
        "<td>If values of two operands are not equal, then condition becomes true.</td>\n",
        "<td> (a != b) is true.</td>\n",
        "</tr>\n",
        "<tr>\n",
        "<td>&gt;</td>\n",
        "<td>If the value of left operand is greater than the value of right operand, then condition becomes true.</td>\n",
        "<td> (a &gt; b) is not true.</td>\n",
        "</tr>\n",
        "<tr>\n",
        "<td>&lt;</td>\n",
        "<td>If the value of left operand is less than the value of right operand, then condition becomes true.</td>\n",
        "<td> (a &lt; b) is true.</td>\n",
        "</tr>\n",
        "<tr>\n",
        "<td>&gt;=</td>\n",
        "<td>If the value of left operand is greater than or equal to the value of right operand, then condition becomes true.</td>\n",
        "<td> (a &gt;= b) is not true. </td>\n",
        "</tr>\n",
        "<tr>\n",
        "<td>&lt;=</td>\n",
        "<td>If the value of left operand is less than or equal to the value of right operand, then condition becomes true.</td>\n",
        "<td> (a &lt;= b) is true. </td>\n",
        "</tr>\n",
        "</table>"
      ]
    },
    {
      "cell_type": "markdown",
      "metadata": {
        "id": "sU61BMdYv9vX"
      },
      "source": [
        "What will be the resulting Boolean of the following pieces of code (answer fist then check by typing it in!)"
      ]
    },
    {
      "cell_type": "code",
      "execution_count": null,
      "metadata": {
        "id": "T0WV1BZfv9vY",
        "outputId": "35d76b57-0438-42b5-cc80-9c05a84bd2e1"
      },
      "outputs": [
        {
          "data": {
            "text/plain": [
              "False"
            ]
          },
          "execution_count": 56,
          "metadata": {},
          "output_type": "execute_result"
        }
      ],
      "source": [
        "# Answer before running cell\n",
        "#False\n",
        "2 > 3"
      ]
    },
    {
      "cell_type": "code",
      "execution_count": null,
      "metadata": {
        "id": "iLpFHU8Fv9va",
        "outputId": "b3ffb005-aa87-4c60-c6a9-e0c958b13126"
      },
      "outputs": [
        {
          "data": {
            "text/plain": [
              "False"
            ]
          },
          "execution_count": 57,
          "metadata": {},
          "output_type": "execute_result"
        }
      ],
      "source": [
        "# Answer before running cell\n",
        "#False\n",
        "3 <= 2"
      ]
    },
    {
      "cell_type": "code",
      "execution_count": null,
      "metadata": {
        "id": "QfiSKaTgv9vc",
        "outputId": "9aebcbf1-28fb-4f07-c138-7edbefa8a837"
      },
      "outputs": [
        {
          "data": {
            "text/plain": [
              "False"
            ]
          },
          "execution_count": 58,
          "metadata": {},
          "output_type": "execute_result"
        }
      ],
      "source": [
        "# Answer before running cell\n",
        "#False\n",
        "3 == 2.0"
      ]
    },
    {
      "cell_type": "code",
      "execution_count": null,
      "metadata": {
        "id": "o53eVS7Uv9vd",
        "outputId": "ac0f53ef-08d0-47a4-8d1a-1988919bd9c1"
      },
      "outputs": [
        {
          "data": {
            "text/plain": [
              "True"
            ]
          },
          "execution_count": 59,
          "metadata": {},
          "output_type": "execute_result"
        }
      ],
      "source": [
        "# Answer before running cell\n",
        "#True\n",
        "3.0 == 3"
      ]
    },
    {
      "cell_type": "code",
      "execution_count": null,
      "metadata": {
        "id": "lEjIoQyjv9vg",
        "outputId": "68872522-55d8-4bde-bf93-a73210cee10e"
      },
      "outputs": [
        {
          "data": {
            "text/plain": [
              "False"
            ]
          },
          "execution_count": 60,
          "metadata": {},
          "output_type": "execute_result"
        }
      ],
      "source": [
        "# Answer before running cell\n",
        "#False\n",
        "4**0.5 != 2"
      ]
    },
    {
      "cell_type": "markdown",
      "metadata": {
        "id": "OkCvitPev9vj"
      },
      "source": [
        "Final Question: What is the boolean output of the cell block below?"
      ]
    },
    {
      "cell_type": "code",
      "execution_count": null,
      "metadata": {
        "id": "iVhfEpFTv9vs",
        "outputId": "097b7af7-af46-45b5-d628-37520c654ce1"
      },
      "outputs": [
        {
          "data": {
            "text/plain": [
              "False"
            ]
          },
          "execution_count": 61,
          "metadata": {},
          "output_type": "execute_result"
        }
      ],
      "source": [
        "# two nested lists\n",
        "l_one = [1,2,[3,4]]\n",
        "l_two = [1,2,{'k1':4}]\n",
        "\n",
        "# True or False?\n",
        "#False\n",
        "l_one[2][0] >= l_two[2]['k1']"
      ]
    },
    {
      "cell_type": "markdown",
      "metadata": {
        "id": "ZirMI_jiv9wH"
      },
      "source": [
        "## Great Job on your first assessment! "
      ]
    }
  ],
  "metadata": {
    "anaconda-cloud": {},
    "kernelspec": {
      "display_name": "Python 3 (ipykernel)",
      "language": "python",
      "name": "python3"
    },
    "language_info": {
      "codemirror_mode": {
        "name": "ipython",
        "version": 3
      },
      "file_extension": ".py",
      "mimetype": "text/x-python",
      "name": "python",
      "nbconvert_exporter": "python",
      "pygments_lexer": "ipython3",
      "version": "3.9.12"
    },
    "colab": {
      "provenance": [],
      "include_colab_link": true
    }
  },
  "nbformat": 4,
  "nbformat_minor": 0
}