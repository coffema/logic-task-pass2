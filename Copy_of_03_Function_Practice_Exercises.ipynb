{
  "cells": [
    {
      "cell_type": "markdown",
      "metadata": {
        "id": "view-in-github",
        "colab_type": "text"
      },
      "source": [
        "<a href=\"https://colab.research.google.com/github/coffema/logic-task-pass2/blob/main/Copy_of_03_Function_Practice_Exercises.ipynb\" target=\"_parent\"><img src=\"https://colab.research.google.com/assets/colab-badge.svg\" alt=\"Open In Colab\"/></a>"
      ]
    },
    {
      "cell_type": "markdown",
      "metadata": {
        "id": "GHeIz_g6XMCm"
      },
      "source": [
        "# Function Practice Exercises\n",
        "\n",
        "Problems are arranged in increasing difficulty:\n",
        "* Warmup - these can be solved using basic comparisons and methods\n",
        "* Level 1 - these may involve if/then conditional statements and simple methods\n",
        "* Level 2 - these may require iterating over sequences, usually with some kind of loop\n",
        "* Challenging - these will take some creativity to solve"
      ]
    },
    {
      "cell_type": "markdown",
      "metadata": {
        "id": "l28_B3NSXMCn"
      },
      "source": [
        "## WARMUP SECTION:"
      ]
    },
    {
      "cell_type": "markdown",
      "metadata": {
        "id": "VnsaOmNuXMCo"
      },
      "source": [
        "#### LESSER OF TWO EVENS: Write a function that returns the lesser of two given numbers *if* both numbers are even, but returns the greater if one or both numbers are odd\n",
        "    lesser_of_two_evens(2,4) --> 2\n",
        "    lesser_of_two_evens(2,5) --> 5"
      ]
    },
    {
      "cell_type": "code",
      "execution_count": null,
      "metadata": {
        "collapsed": true,
        "id": "VAwqNYlTXMCo"
      },
      "outputs": [],
      "source": [
        "def lesser_of_two_evens(a,b):\n",
        "  if a % 2 != 0 and b % 2 != 0:\n",
        "    if a > b:\n",
        "      return b\n",
        "    elif b > a:\n",
        "      return a\n",
        "\n",
        "  if a % 2 == 0 or b % 2 == 0:\n",
        "    if a > b:\n",
        "      return a\n",
        "    elif b > a:\n",
        "      return b\n",
        "    pass\n"
      ]
    },
    {
      "cell_type": "code",
      "source": [
        "lesser_of_two_evens(3,7)"
      ],
      "metadata": {
        "colab": {
          "base_uri": "https://localhost:8080/"
        },
        "id": "92t9wBrbt9mC",
        "outputId": "b8207cfc-88d7-4f16-b91a-916dbb7dd943"
      },
      "execution_count": null,
      "outputs": [
        {
          "output_type": "execute_result",
          "data": {
            "text/plain": [
              "3"
            ]
          },
          "metadata": {},
          "execution_count": 2
        }
      ]
    },
    {
      "cell_type": "code",
      "execution_count": null,
      "metadata": {
        "collapsed": true,
        "id": "dMYA2IK-XMCp",
        "colab": {
          "base_uri": "https://localhost:8080/"
        },
        "outputId": "cd217828-3f47-4e28-c787-aec9a8c5e6f2"
      },
      "outputs": [
        {
          "output_type": "execute_result",
          "data": {
            "text/plain": [
              "4"
            ]
          },
          "metadata": {},
          "execution_count": 3
        }
      ],
      "source": [
        "# Check\n",
        "lesser_of_two_evens(2,4)"
      ]
    },
    {
      "cell_type": "code",
      "execution_count": null,
      "metadata": {
        "collapsed": true,
        "id": "J_1zhNSIXMCp",
        "colab": {
          "base_uri": "https://localhost:8080/"
        },
        "outputId": "dd7df1bf-ce09-4dfc-cdec-1a19051f173d"
      },
      "outputs": [
        {
          "output_type": "execute_result",
          "data": {
            "text/plain": [
              "5"
            ]
          },
          "metadata": {},
          "execution_count": 4
        }
      ],
      "source": [
        "# Check\n",
        "lesser_of_two_evens(2,5)"
      ]
    },
    {
      "cell_type": "markdown",
      "metadata": {
        "id": "LvsBQSyRXMCp"
      },
      "source": [
        "#### ANIMAL CRACKERS: Write a function takes a two-word string and returns True if both words begin with same letter\n",
        "    animal_crackers('Levelheaded Llama') --> True\n",
        "    animal_crackers('Crazy Kangaroo') --> False"
      ]
    },
    {
      "cell_type": "code",
      "execution_count": null,
      "metadata": {
        "collapsed": true,
        "id": "Oo8vUbipXMCq"
      },
      "outputs": [],
      "source": [
        "def animal_crackers(text):\n",
        "    list1 = text.split()\n",
        "    if list1[0][0] == list1[1][0]:\n",
        "     return True\n",
        "    elif list1[0][0] != list1[1][0]:\n",
        "     return False\n",
        "    pass\n"
      ]
    },
    {
      "cell_type": "code",
      "execution_count": null,
      "metadata": {
        "collapsed": true,
        "id": "fObo2CRzXMCq",
        "colab": {
          "base_uri": "https://localhost:8080/"
        },
        "outputId": "0f1ebf7f-d896-4555-d455-07d1baf83dab"
      },
      "outputs": [
        {
          "output_type": "execute_result",
          "data": {
            "text/plain": [
              "True"
            ]
          },
          "metadata": {},
          "execution_count": 6
        }
      ],
      "source": [
        "# Check\n",
        "animal_crackers('Levelheaded Llama')"
      ]
    },
    {
      "cell_type": "code",
      "execution_count": null,
      "metadata": {
        "collapsed": true,
        "id": "MOg_3ysTXMCr",
        "colab": {
          "base_uri": "https://localhost:8080/"
        },
        "outputId": "412da1c6-b8f7-4b24-fbd5-54e531801da9"
      },
      "outputs": [
        {
          "output_type": "execute_result",
          "data": {
            "text/plain": [
              "False"
            ]
          },
          "metadata": {},
          "execution_count": 7
        }
      ],
      "source": [
        "# Check\n",
        "animal_crackers('Crazy Kangaroo')"
      ]
    },
    {
      "cell_type": "markdown",
      "metadata": {
        "id": "sch5YoscXMCr"
      },
      "source": [
        "#### MAKES TWENTY: Given two integers, return True if the sum of the integers is 20 *or* if one of the integers is 20. If not, return False\n",
        "\n",
        "    makes_twenty(20,10) --> True\n",
        "    makes_twenty(12,8) --> True\n",
        "    makes_twenty(2,3) --> False"
      ]
    },
    {
      "cell_type": "code",
      "execution_count": null,
      "metadata": {
        "collapsed": true,
        "id": "HYMgJTnGXMCs"
      },
      "outputs": [],
      "source": [
        "def makes_twenty(n1,n2):\n",
        "  if n1==20 or n2==20:\n",
        "    return True\n",
        "  elif n1 + n2 == 20:\n",
        "    return True\n",
        "  else:\n",
        "    return False\n",
        "    pass"
      ]
    },
    {
      "cell_type": "code",
      "source": [
        "makes_twenty(15,5)"
      ],
      "metadata": {
        "colab": {
          "base_uri": "https://localhost:8080/"
        },
        "id": "KsQ2PSVR0BFU",
        "outputId": "f9e526aa-6a6a-4c47-b8fe-8949a9476244"
      },
      "execution_count": null,
      "outputs": [
        {
          "output_type": "execute_result",
          "data": {
            "text/plain": [
              "True"
            ]
          },
          "metadata": {},
          "execution_count": 9
        }
      ]
    },
    {
      "cell_type": "code",
      "execution_count": null,
      "metadata": {
        "collapsed": true,
        "id": "_QBe5l6qXMCs",
        "colab": {
          "base_uri": "https://localhost:8080/"
        },
        "outputId": "be4736ef-2f81-44c0-b884-f613459fc9d0"
      },
      "outputs": [
        {
          "output_type": "execute_result",
          "data": {
            "text/plain": [
              "True"
            ]
          },
          "metadata": {},
          "execution_count": 10
        }
      ],
      "source": [
        "# Check\n",
        "makes_twenty(20,10)"
      ]
    },
    {
      "cell_type": "code",
      "execution_count": null,
      "metadata": {
        "collapsed": true,
        "id": "qEgtlZj5XMCs",
        "colab": {
          "base_uri": "https://localhost:8080/"
        },
        "outputId": "7d357638-83b6-4e91-b815-08d629037293"
      },
      "outputs": [
        {
          "output_type": "execute_result",
          "data": {
            "text/plain": [
              "False"
            ]
          },
          "metadata": {},
          "execution_count": 11
        }
      ],
      "source": [
        "# Check\n",
        "makes_twenty(2,3)"
      ]
    },
    {
      "cell_type": "markdown",
      "metadata": {
        "id": "W2XBcaiwXMCs"
      },
      "source": [
        "# LEVEL 1 PROBLEMS"
      ]
    },
    {
      "cell_type": "markdown",
      "metadata": {
        "id": "CqsdVy_LXMCs"
      },
      "source": [
        "#### OLD MACDONALD: Write a function that capitalizes the first and fourth letters of a name\n",
        "     \n",
        "    old_macdonald('macdonald') --> MacDonald\n",
        "    \n",
        "Note: `'macdonald'.capitalize()` returns `'Macdonald'`"
      ]
    },
    {
      "cell_type": "code",
      "execution_count": null,
      "metadata": {
        "collapsed": true,
        "id": "4UQ-C_TzXMCt"
      },
      "outputs": [],
      "source": [
        "def old_macdonald(name):\n",
        " name1=name[0].capitalize()\n",
        " name4=name[3].capitalize()\n",
        " print(name[:0]+name1+ name[1:3] +name4 + name[3+1:])\n",
        " pass"
      ]
    },
    {
      "cell_type": "code",
      "execution_count": null,
      "metadata": {
        "collapsed": true,
        "id": "bEUb5roGXMCt",
        "colab": {
          "base_uri": "https://localhost:8080/"
        },
        "outputId": "142baff5-931c-4135-b2ce-e876bc6b5fb6"
      },
      "outputs": [
        {
          "output_type": "stream",
          "name": "stdout",
          "text": [
            "MacDonald\n"
          ]
        }
      ],
      "source": [
        "# Check\n",
        "old_macdonald('macdonald')"
      ]
    },
    {
      "cell_type": "markdown",
      "metadata": {
        "id": "CSDMEURNXMCt"
      },
      "source": [
        "#### MASTER YODA: Given a sentence, return a sentence with the words reversed\n",
        "\n",
        "    master_yoda('I am home') --> 'home am I'\n",
        "    master_yoda('We are ready') --> 'ready are We'\n",
        "    \n",
        "Note: The .join() method may be useful here. The .join() method allows you to join together strings in a list with some connector string. For example, some uses of the .join() method:\n",
        "\n",
        "    >>> \"--\".join(['a','b','c'])\n",
        "    >>> 'a--b--c'\n",
        "\n",
        "This means if you had a list of words you wanted to turn back into a sentence, you could just join them with a single space string:\n",
        "\n",
        "    >>> \" \".join(['Hello','world'])\n",
        "    >>> \"Hello world\""
      ]
    },
    {
      "cell_type": "code",
      "execution_count": null,
      "metadata": {
        "collapsed": true,
        "id": "XIn3JQftXMCt"
      },
      "outputs": [],
      "source": [
        "def master_yoda(text):\n",
        "  list3= text.split()\n",
        "  list3.reverse()\n",
        "  l = \" \".join(list3)\n",
        "  return l\n",
        "\n",
        "  pass"
      ]
    },
    {
      "cell_type": "code",
      "execution_count": null,
      "metadata": {
        "collapsed": true,
        "id": "Mtcb8sKoXMCu",
        "colab": {
          "base_uri": "https://localhost:8080/"
        },
        "outputId": "4863bf3b-434e-4475-9f98-7155ed3496fd"
      },
      "outputs": [
        {
          "output_type": "execute_result",
          "data": {
            "text/plain": [
              "'home am I'"
            ],
            "application/vnd.google.colaboratory.intrinsic+json": {
              "type": "string"
            }
          },
          "metadata": {},
          "execution_count": 15
        }
      ],
      "source": [
        "# Check\n",
        "master_yoda('I am home')"
      ]
    },
    {
      "cell_type": "code",
      "execution_count": null,
      "metadata": {
        "collapsed": true,
        "id": "16wktR8TXMCu",
        "colab": {
          "base_uri": "https://localhost:8080/"
        },
        "outputId": "9bad8d01-8fd1-4b53-eb64-48e912725512"
      },
      "outputs": [
        {
          "output_type": "execute_result",
          "data": {
            "text/plain": [
              "'ready are We'"
            ],
            "application/vnd.google.colaboratory.intrinsic+json": {
              "type": "string"
            }
          },
          "metadata": {},
          "execution_count": 16
        }
      ],
      "source": [
        "# Check\n",
        "master_yoda('We are ready')"
      ]
    },
    {
      "cell_type": "markdown",
      "metadata": {
        "id": "SE1Y8FldXMCu"
      },
      "source": [
        "#### ALMOST THERE: Given an integer n, return True if n is within 10 of either 100 or 200\n",
        "\n",
        "    almost_there(90) --> True\n",
        "    almost_there(104) --> True\n",
        "    almost_there(150) --> False\n",
        "    almost_there(209) --> True\n",
        "    \n",
        "NOTE: `abs(num)` returns the absolute value of a number"
      ]
    },
    {
      "cell_type": "code",
      "execution_count": null,
      "metadata": {
        "collapsed": true,
        "id": "GmL5tD_DXMCu"
      },
      "outputs": [],
      "source": [
        "def almost_there(n):\n",
        "  if n in range(90,110) or n in range(190,210): \n",
        "    return True\n",
        "  else:\n",
        "    return False\n",
        "  pass"
      ]
    },
    {
      "cell_type": "code",
      "execution_count": null,
      "metadata": {
        "collapsed": true,
        "id": "p5s_xsskXMCu",
        "colab": {
          "base_uri": "https://localhost:8080/"
        },
        "outputId": "111e2a7b-ea91-4877-d2ac-95ae0e79c57b"
      },
      "outputs": [
        {
          "output_type": "execute_result",
          "data": {
            "text/plain": [
              "True"
            ]
          },
          "metadata": {},
          "execution_count": 18
        }
      ],
      "source": [
        "# Check\n",
        "almost_there(104)"
      ]
    },
    {
      "cell_type": "code",
      "execution_count": null,
      "metadata": {
        "collapsed": true,
        "id": "3DqtbklKXMCv",
        "colab": {
          "base_uri": "https://localhost:8080/"
        },
        "outputId": "312a7b73-9e25-4af3-9358-e5c3edea0421"
      },
      "outputs": [
        {
          "output_type": "execute_result",
          "data": {
            "text/plain": [
              "False"
            ]
          },
          "metadata": {},
          "execution_count": 19
        }
      ],
      "source": [
        "# Check\n",
        "almost_there(150)"
      ]
    },
    {
      "cell_type": "code",
      "execution_count": null,
      "metadata": {
        "collapsed": true,
        "id": "dJAS3dkaXMCv",
        "colab": {
          "base_uri": "https://localhost:8080/"
        },
        "outputId": "a3973f58-2671-4385-a066-c2d9888e89b2"
      },
      "outputs": [
        {
          "output_type": "execute_result",
          "data": {
            "text/plain": [
              "True"
            ]
          },
          "metadata": {},
          "execution_count": 20
        }
      ],
      "source": [
        "# Check\n",
        "almost_there(209)"
      ]
    },
    {
      "cell_type": "markdown",
      "metadata": {
        "id": "ZNF45RJ7XMCv"
      },
      "source": [
        "# LEVEL 2 PROBLEMS"
      ]
    },
    {
      "cell_type": "markdown",
      "metadata": {
        "id": "cq7fgb1kXMCv"
      },
      "source": [
        "#### FIND 33: \n",
        "\n",
        "Given a list of ints, return True if the array contains a 3 next to a 3 somewhere.\n",
        "\n",
        "    has_33([1, 3, 3]) → True\n",
        "    has_33([1, 3, 1, 3]) → False\n",
        "    has_33([3, 1, 3]) → False"
      ]
    },
    {
      "cell_type": "code",
      "execution_count": null,
      "metadata": {
        "collapsed": true,
        "id": "9ZdRRrBiXMCv"
      },
      "outputs": [],
      "source": [
        "def has_33(nums):\n",
        "  for i in range(len(nums)-1):\n",
        "   if nums[i]==3 and nums[i+1]==3:\n",
        "    return True\n",
        "  return False\n",
        "pass"
      ]
    },
    {
      "cell_type": "code",
      "execution_count": null,
      "metadata": {
        "collapsed": true,
        "id": "3P_1h-OGXMCv",
        "colab": {
          "base_uri": "https://localhost:8080/"
        },
        "outputId": "20f5c921-a67c-41af-e9ab-27a58dbd93bb"
      },
      "outputs": [
        {
          "output_type": "execute_result",
          "data": {
            "text/plain": [
              "True"
            ]
          },
          "metadata": {},
          "execution_count": 22
        }
      ],
      "source": [
        "# Check\n",
        "has_33([1, 3, 3])"
      ]
    },
    {
      "cell_type": "code",
      "execution_count": null,
      "metadata": {
        "id": "Zp7eTqEMXMCv",
        "colab": {
          "base_uri": "https://localhost:8080/"
        },
        "outputId": "f1a7e19e-adfc-4cf0-ffd2-0afd3530008e"
      },
      "outputs": [
        {
          "output_type": "execute_result",
          "data": {
            "text/plain": [
              "False"
            ]
          },
          "metadata": {},
          "execution_count": 23
        }
      ],
      "source": [
        "# Check\n",
        "has_33([1, 3, 1, 3])"
      ]
    },
    {
      "cell_type": "code",
      "execution_count": null,
      "metadata": {
        "id": "CvTD2huMXMCw",
        "colab": {
          "base_uri": "https://localhost:8080/"
        },
        "outputId": "7605cd0f-da7f-48ea-9aa8-56f6acdf33fe"
      },
      "outputs": [
        {
          "output_type": "execute_result",
          "data": {
            "text/plain": [
              "False"
            ]
          },
          "metadata": {},
          "execution_count": 24
        }
      ],
      "source": [
        "# Check\n",
        "has_33([3, 1, 3])"
      ]
    },
    {
      "cell_type": "markdown",
      "metadata": {
        "id": "BeLIIL9zXMCw"
      },
      "source": [
        "#### PAPER DOLL: Given a string, return a string where for every character in the original there are three characters\n",
        "    paper_doll('Hello') --> 'HHHeeellllllooo'\n",
        "    paper_doll('Mississippi') --> 'MMMiiissssssiiissssssiiippppppiii'"
      ]
    },
    {
      "cell_type": "code",
      "execution_count": null,
      "metadata": {
        "collapsed": true,
        "id": "JbGYnl5HXMCw"
      },
      "outputs": [],
      "source": [
        "def paper_doll(text):\n",
        " return \"\".join([x * 3 for x in text])\n",
        " pass"
      ]
    },
    {
      "cell_type": "code",
      "execution_count": null,
      "metadata": {
        "collapsed": true,
        "id": "S0l-NU8BXMCw",
        "colab": {
          "base_uri": "https://localhost:8080/"
        },
        "outputId": "a14b74fb-6197-4f55-8207-dd773e64dc8b"
      },
      "outputs": [
        {
          "output_type": "execute_result",
          "data": {
            "text/plain": [
              "'HHHeeellllllooo'"
            ],
            "application/vnd.google.colaboratory.intrinsic+json": {
              "type": "string"
            }
          },
          "metadata": {},
          "execution_count": 26
        }
      ],
      "source": [
        "# Check\n",
        "paper_doll('Hello')"
      ]
    },
    {
      "cell_type": "code",
      "execution_count": null,
      "metadata": {
        "collapsed": true,
        "id": "Xkx5ZQZ1XMCw",
        "colab": {
          "base_uri": "https://localhost:8080/"
        },
        "outputId": "f83b5b0a-96ec-4692-eb76-38f6347ad040"
      },
      "outputs": [
        {
          "output_type": "execute_result",
          "data": {
            "text/plain": [
              "'MMMiiissssssiiissssssiiippppppiii'"
            ],
            "application/vnd.google.colaboratory.intrinsic+json": {
              "type": "string"
            }
          },
          "metadata": {},
          "execution_count": 27
        }
      ],
      "source": [
        "# Check\n",
        "paper_doll('Mississippi')"
      ]
    },
    {
      "cell_type": "markdown",
      "metadata": {
        "id": "J1RteYzjXMCw"
      },
      "source": [
        "#### BLACKJACK: Given three integers between 1 and 11, if their sum is less than or equal to 21, return their sum. If their sum exceeds 21 *and* there's an eleven, reduce the total sum by 10. Finally, if the sum (even after adjustment) exceeds 21, return 'BUST'\n",
        "    blackjack(5,6,7) --> 18\n",
        "    blackjack(9,9,9) --> 'BUST'\n",
        "    blackjack(9,9,11) --> 19"
      ]
    },
    {
      "cell_type": "code",
      "execution_count": null,
      "metadata": {
        "collapsed": true,
        "id": "BfpoXkj1XMCw"
      },
      "outputs": [],
      "source": [
        "def blackjack(a,b,c):\n",
        "   sum = a+b+c\n",
        "   if sum <= 21:\n",
        "     return sum\n",
        "   elif (sum > 21) and (a==11 or b==11 or c==11):\n",
        "      if (sum - 10) <= 21:\n",
        "        return sum - 10\n",
        "      elif (sum - 10) > 21:\n",
        "        return 'BUST'\n",
        "   elif sum > 21:\n",
        "    return 'BUST'\n",
        "pass"
      ]
    },
    {
      "cell_type": "code",
      "execution_count": null,
      "metadata": {
        "collapsed": true,
        "id": "yBckdI6WXMCx",
        "colab": {
          "base_uri": "https://localhost:8080/"
        },
        "outputId": "1edc06a5-38fd-4765-9b6a-00dd87c55022"
      },
      "outputs": [
        {
          "output_type": "execute_result",
          "data": {
            "text/plain": [
              "18"
            ]
          },
          "metadata": {},
          "execution_count": 29
        }
      ],
      "source": [
        "# Check\n",
        "blackjack(5,6,7)"
      ]
    },
    {
      "cell_type": "code",
      "execution_count": null,
      "metadata": {
        "collapsed": true,
        "id": "ZJgfgBVtXMCx",
        "colab": {
          "base_uri": "https://localhost:8080/"
        },
        "outputId": "57e97ec1-be1e-424b-f2e5-782c024dca69"
      },
      "outputs": [
        {
          "output_type": "execute_result",
          "data": {
            "text/plain": [
              "'BUST'"
            ],
            "application/vnd.google.colaboratory.intrinsic+json": {
              "type": "string"
            }
          },
          "metadata": {},
          "execution_count": 30
        }
      ],
      "source": [
        "# Check\n",
        "blackjack(9,9,9)"
      ]
    },
    {
      "cell_type": "code",
      "execution_count": null,
      "metadata": {
        "collapsed": true,
        "id": "HZ-1xR6rXMCx",
        "colab": {
          "base_uri": "https://localhost:8080/"
        },
        "outputId": "54277cb1-47e3-4a12-97a3-930700bd3b8a"
      },
      "outputs": [
        {
          "output_type": "execute_result",
          "data": {
            "text/plain": [
              "19"
            ]
          },
          "metadata": {},
          "execution_count": 31
        }
      ],
      "source": [
        "# Check\n",
        "blackjack(9,9,11)"
      ]
    },
    {
      "cell_type": "markdown",
      "metadata": {
        "id": "y2k9Oj3GXMCx"
      },
      "source": [
        "#### SUMMER OF '69: Return the sum of the numbers in the array, except ignore sections of numbers starting with a 6 and extending to the next 9 (every 6 will be followed by at least one 9). Return 0 for no numbers.\n",
        " \n",
        "    summer_69([1, 3, 5]) --> 9\n",
        "    summer_69([4, 5, 6, 7, 8, 9]) --> 9\n",
        "    summer_69([2, 1, 6, 9, 11]) --> 14"
      ]
    },
    {
      "cell_type": "code",
      "execution_count": null,
      "metadata": {
        "collapsed": true,
        "id": "WN8atH_HXMCx"
      },
      "outputs": [],
      "source": [
        "def summer_69(arr):\n",
        " \n",
        "  i=0\n",
        "  for i in arr:\n",
        "    if 6 in arr:\n",
        "      a = arr.index(6)\n",
        "      b = arr.index(9)\n",
        "      del arr[a:b+1]\n",
        "\n",
        "    return sum(arr)\n",
        "    pass"
      ]
    },
    {
      "cell_type": "code",
      "execution_count": null,
      "metadata": {
        "collapsed": true,
        "id": "trkWVaHKXMCx",
        "colab": {
          "base_uri": "https://localhost:8080/"
        },
        "outputId": "dd48ff23-1fc3-40a3-857f-f5c1412d6df1"
      },
      "outputs": [
        {
          "output_type": "execute_result",
          "data": {
            "text/plain": [
              "9"
            ]
          },
          "metadata": {},
          "execution_count": 33
        }
      ],
      "source": [
        "# Check\n",
        "summer_69([1, 3, 5])"
      ]
    },
    {
      "cell_type": "code",
      "execution_count": null,
      "metadata": {
        "collapsed": true,
        "id": "7-lo5RKyXMCx",
        "colab": {
          "base_uri": "https://localhost:8080/"
        },
        "outputId": "ffbd24a4-e6eb-4e2a-9d52-d5e107df8e6c"
      },
      "outputs": [
        {
          "output_type": "execute_result",
          "data": {
            "text/plain": [
              "9"
            ]
          },
          "metadata": {},
          "execution_count": 34
        }
      ],
      "source": [
        "# Check\n",
        "summer_69([4, 5, 6, 7, 8, 9])"
      ]
    },
    {
      "cell_type": "code",
      "execution_count": null,
      "metadata": {
        "collapsed": true,
        "id": "TjuuvsOZXMCx",
        "colab": {
          "base_uri": "https://localhost:8080/"
        },
        "outputId": "c635acff-b321-4e78-db08-a1201d00a86e"
      },
      "outputs": [
        {
          "output_type": "execute_result",
          "data": {
            "text/plain": [
              "14"
            ]
          },
          "metadata": {},
          "execution_count": 35
        }
      ],
      "source": [
        "# Check\n",
        "summer_69([2, 1, 6, 9, 11])"
      ]
    },
    {
      "cell_type": "markdown",
      "metadata": {
        "id": "AEbGbHMfXMCy"
      },
      "source": [
        "# CHALLENGING PROBLEMS"
      ]
    },
    {
      "cell_type": "markdown",
      "metadata": {
        "id": "YtI_k5lrXMCy"
      },
      "source": [
        "#### SPY GAME: Write a function that takes in a list of integers and returns True if it contains 007 in order\n",
        "\n",
        "     spy_game([1,2,4,0,0,7,5]) --> True\n",
        "     spy_game([1,0,2,4,0,5,7]) --> True\n",
        "     spy_game([1,7,2,0,4,5,0]) --> False\n"
      ]
    },
    {
      "cell_type": "code",
      "execution_count": null,
      "metadata": {
        "collapsed": true,
        "id": "fj-ZpebxXMCy"
      },
      "outputs": [],
      "source": [
        "def spy_game(nums):\n",
        "  i=0\n",
        "  for i in range(len(nums)-1):\n",
        "    if nums[i:i+3]==[0,0,7]:\n",
        "     return True\n",
        "  return False\n",
        "pass"
      ]
    },
    {
      "cell_type": "code",
      "execution_count": null,
      "metadata": {
        "collapsed": true,
        "id": "ic0a624lXMCy",
        "colab": {
          "base_uri": "https://localhost:8080/"
        },
        "outputId": "a0206d9d-b5a7-4353-a6e1-c6a8d7b9e403"
      },
      "outputs": [
        {
          "output_type": "execute_result",
          "data": {
            "text/plain": [
              "True"
            ]
          },
          "metadata": {},
          "execution_count": 2
        }
      ],
      "source": [
        "# Check\n",
        "spy_game([1,2,4,0,0,7,5])"
      ]
    },
    {
      "cell_type": "code",
      "execution_count": null,
      "metadata": {
        "collapsed": true,
        "id": "CWkKgkQQXMCy",
        "colab": {
          "base_uri": "https://localhost:8080/"
        },
        "outputId": "9d8da6d2-a0ca-4e9a-cd8b-8a72b0e70a7a"
      },
      "outputs": [
        {
          "output_type": "execute_result",
          "data": {
            "text/plain": [
              "False"
            ]
          },
          "metadata": {},
          "execution_count": 3
        }
      ],
      "source": [
        "# Check\n",
        "spy_game([1,0,2,4,0,5,7])"
      ]
    },
    {
      "cell_type": "code",
      "execution_count": null,
      "metadata": {
        "collapsed": true,
        "id": "k4dB1cRaXMCy",
        "colab": {
          "base_uri": "https://localhost:8080/"
        },
        "outputId": "6b7c4427-b78f-4844-93dd-be2b8b3f5f76"
      },
      "outputs": [
        {
          "output_type": "execute_result",
          "data": {
            "text/plain": [
              "False"
            ]
          },
          "metadata": {},
          "execution_count": 4
        }
      ],
      "source": [
        "# Check\n",
        "spy_game([1,7,2,0,4,5,0])"
      ]
    },
    {
      "cell_type": "markdown",
      "metadata": {
        "id": "u0w8QHmlXMCy"
      },
      "source": [
        "#### COUNT PRIMES: Write a function that returns the *number* of prime numbers that exist up to and including a given number\n",
        "    count_primes(100) --> 25\n",
        "\n",
        "By convention, 0 and 1 are not prime."
      ]
    },
    {
      "cell_type": "code",
      "execution_count": null,
      "metadata": {
        "collapsed": true,
        "id": "SgoB500cXMCy"
      },
      "outputs": [],
      "source": [
        "import math\n",
        "def count_primes(num):\n",
        "  counter = 0\n",
        "  for n in range(2,num+1):\n",
        "      prime=True\n",
        "      for i in range(2,n):\n",
        "          if(n%i == 0):\n",
        "              prime=False\n",
        "              break\n",
        "      if prime:\n",
        "          counter += 1\n",
        "  return counter\n",
        "  \n",
        "pass\n",
        "                "
      ]
    },
    {
      "cell_type": "code",
      "execution_count": null,
      "metadata": {
        "collapsed": true,
        "id": "MguIUW0cXMCz",
        "colab": {
          "base_uri": "https://localhost:8080/"
        },
        "outputId": "04258d23-1b45-4bd0-cd70-3fc2dfb4b354"
      },
      "outputs": [
        {
          "output_type": "execute_result",
          "data": {
            "text/plain": [
              "25"
            ]
          },
          "metadata": {},
          "execution_count": 41
        }
      ],
      "source": [
        "# Check\n",
        "count_primes(100)"
      ]
    },
    {
      "cell_type": "markdown",
      "metadata": {
        "id": "F8sFsiYCXMCz"
      },
      "source": [
        "### Just for fun:\n",
        "#### PRINT BIG: Write a function that takes in a single letter, and returns a 5x5 representation of that letter\n",
        "    print_big('a')\n",
        "    \n",
        "    out:   *  \n",
        "          * *\n",
        "         *****\n",
        "         *   *\n",
        "         *   *\n",
        "HINT: Consider making a dictionary of possible patterns, and mapping the alphabet to specific 5-line combinations of patterns. <br>For purposes of this exercise, it's ok if your dictionary stops at \"E\"."
      ]
    },
    {
      "cell_type": "code",
      "execution_count": null,
      "metadata": {
        "collapsed": true,
        "id": "-3F0X8Q8XMCz"
      },
      "outputs": [],
      "source": [
        "def print_big(letter):\n",
        "  the_print={'a':['  *  ',' *  * ','******','*    *','*    *'],\n",
        "             'b':['**** ','*   *','*****','*   *','**** '],\n",
        "             'c':[' ****','*    ','*    ','*    ',' ****'],\n",
        "             'd':['****','*  *','*   *','*  *','****'],\n",
        "             'e':['****','*','****','*','****']\n",
        "             }\n",
        "  for i in range(len(the_print['a'])):  \n",
        "        for j in range(len(letter)):       \n",
        "            print(the_print[letter[j]][i]+\"   \",end = \" \")\n",
        "        print()\n",
        "  pass"
      ]
    },
    {
      "cell_type": "code",
      "execution_count": null,
      "metadata": {
        "collapsed": true,
        "id": "ZNfjVcrHXMCz",
        "colab": {
          "base_uri": "https://localhost:8080/"
        },
        "outputId": "0a6e35e7-d9a7-459d-e7d9-20d756ceec89"
      },
      "outputs": [
        {
          "output_type": "stream",
          "name": "stdout",
          "text": [
            "****     \n",
            "*   *    \n",
            "*****    \n",
            "*   *    \n",
            "****     \n"
          ]
        }
      ],
      "source": [
        "print_big('b')"
      ]
    },
    {
      "cell_type": "markdown",
      "metadata": {
        "id": "D7mlrja-XMCz"
      },
      "source": [
        "## Great Job!"
      ]
    }
  ],
  "metadata": {
    "kernelspec": {
      "display_name": "Python 3 (ipykernel)",
      "language": "python",
      "name": "python3"
    },
    "language_info": {
      "codemirror_mode": {
        "name": "ipython",
        "version": 3
      },
      "file_extension": ".py",
      "mimetype": "text/x-python",
      "name": "python",
      "nbconvert_exporter": "python",
      "pygments_lexer": "ipython3",
      "version": "3.9.12"
    },
    "colab": {
      "provenance": [],
      "include_colab_link": true
    }
  },
  "nbformat": 4,
  "nbformat_minor": 0
}